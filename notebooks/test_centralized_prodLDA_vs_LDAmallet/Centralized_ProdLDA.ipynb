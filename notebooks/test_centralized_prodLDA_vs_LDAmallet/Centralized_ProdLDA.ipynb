{
  "cells": [
    {
      "cell_type": "code",
      "execution_count": 1,
      "metadata": {
        "id": "sib1HSks6Xqv"
      },
      "outputs": [],
      "source": [
        "import numpy as np\n",
        "import pandas as pd\n",
        "import nltk\n",
        "from sklearn.feature_extraction.text import CountVectorizer\n",
        "from scipy.special import softmax\n",
        "import multiprocessing as mp\n",
        "from torch.utils.data import DataLoader\n",
        "from tqdm import tqdm\n",
        "import torch\n",
        "from torch.nn import functional as F\n",
        "from sklearn.preprocessing import normalize"
      ]
    },
    {
      "cell_type": "markdown",
      "metadata": {
        "id": "4CObHMSd6LLz"
      },
      "source": [
        "# Installing ProdLDA\n",
        "**Restart notbook after the installation!!**"
      ]
    },
    {
      "cell_type": "code",
      "execution_count": 2,
      "metadata": {
        "colab": {
          "base_uri": "https://localhost:8080/"
        },
        "id": "-VDAzxJA6FK5",
        "outputId": "138e5fed-98d4-42ed-f62f-b300d9adee0f"
      },
      "outputs": [
        {
          "name": "stdout",
          "output_type": "stream",
          "text": [
            "Cloning into 'PyTorchAVITM'...\n",
            "remote: Enumerating objects: 19052, done.\u001b[K\n",
            "remote: Total 19052 (delta 0), reused 0 (delta 0), pack-reused 19052\u001b[K\n",
            "Receiving objects: 100% (19052/19052), 132.62 MiB | 13.90 MiB/s, done.\n",
            "Resolving deltas: 100% (89/89), done.\n",
            "Checking out files: 100% (37/37), done.\n"
          ]
        }
      ],
      "source": [
        "!git clone https://github.com/estebandito22/PyTorchAVITM"
      ]
    },
    {
      "cell_type": "markdown",
      "metadata": {
        "id": "L6kW5jO66UKj"
      },
      "source": [
        "# 1. Creation of synthetic corpus\n",
        "\n",
        "We consider a scenario with n parties, each of them as an associated corpus.\n",
        "To generate the corpus associated with each of the parties, we consider a common beta distribution (word-topic distribution), but we freeze different topics/ assign different asymmetric Dirichlet priors favoring different topics at the time of generating the document that composes each party's corpus."
      ]
    },
    {
      "cell_type": "markdown",
      "metadata": {
        "id": "twSZ3G0p6d1z"
      },
      "source": [
        "## 1.1. Function for permuting the Dirichlet prior at each node"
      ]
    },
    {
      "cell_type": "code",
      "execution_count": 3,
      "metadata": {
        "id": "tXdkpdrh6Thn"
      },
      "outputs": [],
      "source": [
        "def rotateArray(arr, n, d):\n",
        "    temp = []\n",
        "    i = 0\n",
        "    while (i < d):\n",
        "        temp.append(arr[i])\n",
        "        i = i + 1\n",
        "    i = 0\n",
        "    while (d < n):\n",
        "        arr[i] = arr[d]\n",
        "        i = i + 1\n",
        "        d = d + 1\n",
        "    arr[:] = arr[: i] + temp\n",
        "    return arr"
      ]
    },
    {
      "cell_type": "markdown",
      "metadata": {
        "id": "AyFA9eGH6hGH"
      },
      "source": [
        "## 1.2. Topic modeling and node settings"
      ]
    },
    {
      "cell_type": "code",
      "execution_count": 4,
      "metadata": {
        "id": "5DmfSiuR6iI0"
      },
      "outputs": [],
      "source": [
        "# Topic modeling settings\n",
        "vocab_size = 5000\n",
        "n_topics = 50\n",
        "beta = 1e-2\n",
        "alpha = 1/n_topics\n",
        "n_docs = 1000\n",
        "nwords = (150, 250) #Min and max lengths of the documents\n",
        "\n",
        "# Nodes settings\n",
        "n_nodes = 5\n",
        "frozen_topics = 5\n",
        "prior_frozen = frozen_topics * [alpha]\n",
        "own_topics = int((n_topics-frozen_topics)/n_nodes)\n",
        "prior_nofrozen = own_topics * [alpha] + (n_topics-frozen_topics-own_topics) * [alpha/10000]\n",
        "#print(prior_frozen + prior_nofrozen)"
      ]
    },
    {
      "cell_type": "markdown",
      "metadata": {
        "id": "8ylo9Vsu6zpX"
      },
      "source": [
        "## 1.3. Topics generation (common for all nodes)"
      ]
    },
    {
      "cell_type": "code",
      "execution_count": 5,
      "metadata": {
        "colab": {
          "base_uri": "https://localhost:8080/"
        },
        "id": "uy3AuOSx6qc1",
        "outputId": "69807211-d27b-411c-b3b5-3a3e7494b2e6"
      },
      "outputs": [
        {
          "name": "stdout",
          "output_type": "stream",
          "text": [
            "Probabilidades ordenadas para el primer vector de tópicos:\n",
            "[0.06719642 0.05684285 0.03974969 ... 0.         0.         0.        ]\n",
            "(50, 5000)\n"
          ]
        }
      ],
      "source": [
        "topic_vectors = np.random.dirichlet(vocab_size*[beta], n_topics)\n",
        "print('Probabilidades ordenadas para el primer vector de tópicos:')\n",
        "print(np.sort(topic_vectors[0])[::-1])\n",
        "print(topic_vectors.shape)"
      ]
    },
    {
      "cell_type": "code",
      "execution_count": 6,
      "metadata": {
        "colab": {
          "base_uri": "https://localhost:8080/"
        },
        "id": "k1W6ldfZeJsT",
        "outputId": "c8785bdf-829a-4080-afb9-43e6a14a8ead"
      },
      "outputs": [
        {
          "name": "stdout",
          "output_type": "stream",
          "text": [
            "Tópicos (equivalentes) identificados correctamente (true): 50.00000000000006\n",
            "Tópicos (equivalentes) identificados correctamente (random): 3.8182884263328414\n"
          ]
        }
      ],
      "source": [
        "#Here we compare alignment of the topic_vector matrix with itself and with another randomly generated matrix\n",
        "print('Tópicos (equivalentes) identificados correctamente (true):', np.sum(np.max(np.sqrt(topic_vectors).dot(np.sqrt(topic_vectors.T)), axis=0)))\n",
        "topic_vectors2 = np.random.dirichlet(vocab_size*[beta], n_topics)\n",
        "print('Tópicos (equivalentes) identificados correctamente (random):', np.sum(np.max(np.sqrt(topic_vectors2).dot(np.sqrt(topic_vectors.T)), axis=0)))"
      ]
    },
    {
      "cell_type": "markdown",
      "metadata": {
        "id": "BaQEe-yD6vl_"
      },
      "source": [
        "## 1.4. Generation of document topic proportions and documents for each node\n"
      ]
    },
    {
      "cell_type": "code",
      "execution_count": 7,
      "metadata": {
        "id": "VZJEmEhheNva"
      },
      "outputs": [],
      "source": [
        "# Step 2 - generation of document topic proportions\n",
        "doc_topics_all = []\n",
        "for i in np.arange(n_nodes):\n",
        "    doc_topics = np.random.dirichlet(prior_frozen + prior_nofrozen, n_docs)\n",
        "    prior_nofrozen = rotateArray(prior_nofrozen, len(prior_nofrozen), own_topics)\n",
        "    doc_topics_all.append(doc_topics)"
      ]
    },
    {
      "cell_type": "code",
      "execution_count": 8,
      "metadata": {
        "id": "N-BziCW56vFL"
      },
      "outputs": [],
      "source": [
        "# Step 3 - Document generation\n",
        "documents_all = []\n",
        "z_all = []\n",
        "\n",
        "for i in np.arange(n_nodes):\n",
        "    documents = [] # Document words\n",
        "    #z = [] # Assignments\n",
        "    for docid in np.arange(n_docs):\n",
        "        doc_len = np.random.randint(low=nwords[0], high=nwords[1])\n",
        "        this_doc_words = []\n",
        "        #this_doc_assigns = []\n",
        "        for wd_idx in np.arange(doc_len):\n",
        "            tpc = np.nonzero(np.random.multinomial(1, doc_topics_all[i][docid]))[0][0]\n",
        "            #this_doc_assigns.append(tpc)\n",
        "            word = np.nonzero(np.random.multinomial(1, topic_vectors[tpc]))[0][0]\n",
        "            this_doc_words.append('wd'+str(word))\n",
        "        #z.append(this_doc_assigns)\n",
        "        documents.append(this_doc_words)\n",
        "    documents_all.append(documents)\n",
        "    #z_all.append(z)"
      ]
    },
    {
      "cell_type": "code",
      "execution_count": 9,
      "metadata": {
        "colab": {
          "base_uri": "https://localhost:8080/"
        },
        "id": "XlZysxpSllMB",
        "outputId": "5e340dea-7d20-4c8d-e2d3-8eb504e346ec"
      },
      "outputs": [
        {
          "name": "stderr",
          "output_type": "stream",
          "text": [
            "/usr/local/lib/python3.7/dist-packages/numpy/lib/npyio.py:719: VisibleDeprecationWarning: Creating an ndarray from ragged nested sequences (which is a list-or-tuple of lists-or-tuples-or ndarrays with different lengths or shapes) is deprecated. If you meant to do this, you must specify 'dtype=object' when creating the ndarray.\n",
            "  val = np.asanyarray(val)\n"
          ]
        }
      ],
      "source": [
        "np.savez('synthetic_10000_beta_1.npz', n_nodes = n_nodes, vocab_size=vocab_size, n_topics=n_topics, frozen_topics = frozen_topics, beta=beta, alpha=alpha,\n",
        "        n_docs=n_docs, nwords=nwords, topic_vectors=topic_vectors, doc_topics=doc_topics_all,\n",
        "        documents=documents_all, z=z_all)"
      ]
    },
    {
      "cell_type": "code",
      "execution_count": 10,
      "metadata": {
        "id": "GatNJky5hQSr"
      },
      "outputs": [],
      "source": [
        "doc_topics_all_gt = doc_topics_all"
      ]
    },
    {
      "cell_type": "markdown",
      "metadata": {
        "id": "HuJUlOIJ69iw"
      },
      "source": [
        "# 2. ProdLDA model at node 0"
      ]
    },
    {
      "cell_type": "code",
      "execution_count": 12,
      "metadata": {
        "colab": {
          "base_uri": "https://localhost:8080/"
        },
        "id": "14tnh0ndFpb0",
        "outputId": "7adbfcf6-b5f5-4fb2-d6b0-5a3845ea3cd3"
      },
      "outputs": [
        {
          "name": "stdout",
          "output_type": "stream",
          "text": [
            "/content/PyTorchAVITM/pytorchavitm/datasets\n"
          ]
        }
      ],
      "source": [
        "cd /content/PyTorchAVITM/pytorchavitm/datasets"
      ]
    },
    {
      "cell_type": "code",
      "execution_count": 13,
      "metadata": {
        "id": "icRzu2ZE3naH"
      },
      "outputs": [],
      "source": [
        "from bow import BOWDataset"
      ]
    },
    {
      "cell_type": "code",
      "execution_count": 14,
      "metadata": {
        "colab": {
          "base_uri": "https://localhost:8080/"
        },
        "id": "k4okSYycQaOK",
        "outputId": "9aab3a9d-14cc-46ff-a552-aa2f1ddc1e9f"
      },
      "outputs": [
        {
          "name": "stdout",
          "output_type": "stream",
          "text": [
            "/content/PyTorchAVITM\n"
          ]
        }
      ],
      "source": [
        "cd /content/PyTorchAVITM"
      ]
    },
    {
      "cell_type": "code",
      "execution_count": 15,
      "metadata": {
        "id": "gFPzE3yN3pLI"
      },
      "outputs": [],
      "source": [
        "from pytorchavitm import AVITM"
      ]
    },
    {
      "cell_type": "code",
      "execution_count": 16,
      "metadata": {
        "id": "ZGNArrP50AhG"
      },
      "outputs": [],
      "source": [
        "def train_avitm(docs_train):\n",
        "  cv = CountVectorizer(input='content', lowercase=True, stop_words='english',\n",
        "                      max_df=0.99, min_df=0.01, binary=False)\n",
        "  \n",
        "  docs = [\" \".join(docs_train[i]) for i in np.arange(len(docs_train))]\n",
        "\n",
        "  train_bow = cv.fit_transform(docs)\n",
        "  train_bow = train_bow.toarray()\n",
        "\n",
        "  idx2token = cv.get_feature_names()\n",
        "  input_size = len(idx2token)\n",
        "\n",
        "  id2token = {k: v for k, v in zip(range(0, len(idx2token)), idx2token)}\n",
        "\n",
        "  train_data = BOWDataset(train_bow, idx2token)\n",
        "\n",
        "  avitm = AVITM(input_size=input_size, n_components=n_topics, model_type='prodLDA',\n",
        "                hidden_sizes=(100, 100), activation='softplus', dropout=0.2,\n",
        "                learn_priors=True, batch_size=64, lr=2e-3, momentum=0.99,\n",
        "                solver='adam', num_epochs=100, reduce_on_plateau=False)\n",
        "  \n",
        "  avitm.fit(train_data)\n",
        "\n",
        "  return train_data, avitm, id2token"
      ]
    },
    {
      "cell_type": "code",
      "execution_count": 17,
      "metadata": {
        "id": "orpK--hqxQkG"
      },
      "outputs": [],
      "source": [
        "def get_doc_topic_distribution(avitm, dataset, n_samples=20):\n",
        "    avitm.model.eval()\n",
        "\n",
        "    loader = DataLoader(\n",
        "            avitm.train_data, batch_size=avitm.batch_size, shuffle=True,\n",
        "            num_workers=mp.cpu_count())\n",
        "\n",
        "    pbar = tqdm(n_samples, position=0, leave=True)\n",
        "\n",
        "    final_thetas = []\n",
        "    for sample_index in range(n_samples):\n",
        "        with torch.no_grad():\n",
        "            collect_theta = []\n",
        "\n",
        "            for batch_samples in loader:\n",
        "                X = batch_samples['X']\n",
        "\n",
        "                if avitm.USE_CUDA:\n",
        "                  X = X.cuda()\n",
        "\n",
        "                # forward pass\n",
        "                avitm.model.zero_grad()\n",
        "                \n",
        "                with torch.no_grad():\n",
        "                  posterior_mu, posterior_log_sigma = avitm.model.inf_net(X)\n",
        "\n",
        "                  # Generate samples from theta\n",
        "                  theta = F.softmax(\n",
        "                          avitm.model.reparameterize(posterior_mu, posterior_log_sigma), dim=1)\n",
        "                  theta = avitm.model.drop_theta(theta)\n",
        "\n",
        "                collect_theta.extend(theta.cpu().numpy().tolist())\n",
        "\n",
        "            pbar.update(1)\n",
        "            pbar.set_description(\"Sampling: [{}/{}]\".format(sample_index + 1, n_samples))\n",
        "\n",
        "            final_thetas.append(np.array(collect_theta))\n",
        "    pbar.close()\n",
        "    return np.sum(final_thetas, axis=0) / n_samples"
      ]
    },
    {
      "cell_type": "code",
      "execution_count": 18,
      "metadata": {
        "id": "douV1llyTM4b"
      },
      "outputs": [],
      "source": [
        "def get_topic_word_distribution(avtim_model):\n",
        "  topic_word_matrix = avtim_model.model.beta.cpu().detach().numpy()\n",
        "  return softmax(topic_word_matrix, axis=1)"
      ]
    },
    {
      "cell_type": "code",
      "execution_count": 39,
      "metadata": {
        "id": "CT-rniqA78QO"
      },
      "outputs": [],
      "source": [
        "def convert_topic_word_to_init_size(vocab_size, model, ntopics,\n",
        "                                    id2token, all_words):\n",
        "    \"\"\"It converts the topic-word distribution matrix obtained from the\n",
        "    training of a model into a matrix with the dimensions of the original\n",
        "    topic-word distribution, assigning zeros to those words that are not\n",
        "    present in the corpus. \n",
        "    It is only of use in case we are training a model over a synthetic dataset,\n",
        "    so as to later compare the performance of the attained model in what regards\n",
        "    to the similarity between the original and the trained model.\n",
        "\n",
        "    Args:\n",
        "        * vocab_size (int):       Size of the synethic'data vocabulary.\n",
        "        * model (AVITM):          Model whose topic-word matrix is being transformed.\n",
        "        * ntopics (int):          Number of topics of the trained model.\n",
        "        * id2token (List[tuple]): Mappings with the content of the document-term matrix.\n",
        "        * all_words (List[str]):  List of all the words of the vocabulary of size vocab_size.\n",
        "\n",
        "    Returns:\n",
        "        * ndarray: Normalized transormed topic-word distribution.\n",
        "    \"\"\"\n",
        "    w_t_distrib = np.zeros((ntopics, vocab_size), dtype=np.float64)\n",
        "    wd = get_topic_word_distribution(model)\n",
        "    for i in np.arange(ntopics):\n",
        "        for idx, word in id2token.items():\n",
        "            for j in np.arange(len(all_words)):\n",
        "                if all_words[j] == word:\n",
        "                    w_t_distrib[i, j] = wd[i][idx]\n",
        "                    break\n",
        "    normalized_array = normalize(w_t_distrib,axis=1,norm='l1')\n",
        "    return normalized_array\n",
        "    "
      ]
    },
    {
      "cell_type": "code",
      "execution_count": null,
      "metadata": {
        "id": "wchhyQ5bDIhK"
      },
      "outputs": [],
      "source": [
        "corpus_node = documents_all[0]\n",
        "train_data, avitm, id2token = train_avitm(corpus_node)"
      ]
    },
    {
      "cell_type": "markdown",
      "metadata": {
        "id": "W4kezlbmRaRV"
      },
      "source": [
        "### Document-topic distributions"
      ]
    },
    {
      "cell_type": "code",
      "execution_count": 20,
      "metadata": {
        "colab": {
          "base_uri": "https://localhost:8080/"
        },
        "id": "PXTjce2LlVRG",
        "outputId": "932f7980-1285-4df9-ce84-c1416ac34ed5"
      },
      "outputs": [
        {
          "name": "stderr",
          "output_type": "stream",
          "text": [
            "Sampling: [5/5]: : 5it [00:00,  6.17it/s]"
          ]
        },
        {
          "name": "stdout",
          "output_type": "stream",
          "text": [
            "Document-topic distribution node 0\n",
            "(1000, 50)\n"
          ]
        },
        {
          "name": "stderr",
          "output_type": "stream",
          "text": [
            "\n"
          ]
        }
      ],
      "source": [
        "doc_topic = get_doc_topic_distribution(avitm, train_data, n_samples=5) # get all the topic predictions\n",
        "print(\"Document-topic distribution node 0\")\n",
        "print(np.array(doc_topic).shape)"
      ]
    },
    {
      "cell_type": "markdown",
      "metadata": {
        "id": "aEE_kyedRgYv"
      },
      "source": [
        "### Word-topic distributions "
      ]
    },
    {
      "cell_type": "code",
      "execution_count": 42,
      "metadata": {
        "id": "BdM2jxRJUvk3"
      },
      "outputs": [],
      "source": [
        "all_words = ['wd'+str(word) for word in np.arange(vocab_size+1) if word > 0]"
      ]
    },
    {
      "cell_type": "code",
      "execution_count": 40,
      "metadata": {
        "id": "-ycAfAPI8k4b"
      },
      "outputs": [],
      "source": [
        "word_topic = convert_topic_word_to_init_size(vocab_size, avitm, n_topics, id2token, all_words)\n",
        "word_topic.shape"
      ]
    },
    {
      "cell_type": "markdown",
      "metadata": {
        "id": "QieP5DdU7zY0"
      },
      "source": [
        "# 3. Centralized ProdLDA model"
      ]
    },
    {
      "cell_type": "code",
      "execution_count": 23,
      "metadata": {
        "colab": {
          "base_uri": "https://localhost:8080/"
        },
        "id": "wTQrxfRpRrD1",
        "outputId": "4067ff18-86e8-4f9e-b944-43215b77233f"
      },
      "outputs": [
        {
          "data": {
            "text/plain": [
              "5000"
            ]
          },
          "execution_count": 23,
          "metadata": {},
          "output_type": "execute_result"
        }
      ],
      "source": [
        "documents_centr = [*documents_all[0], *documents_all[1], *documents_all[2], *documents_all[3], *documents_all[4]]\n",
        "len(documents_centr)"
      ]
    },
    {
      "cell_type": "code",
      "execution_count": null,
      "metadata": {
        "id": "kxW_tMtFRyfX"
      },
      "outputs": [],
      "source": [
        "train_data_centr, avitm_centr, id2token_centr = train_avitm(documents_centr)"
      ]
    },
    {
      "cell_type": "code",
      "execution_count": 25,
      "metadata": {
        "colab": {
          "base_uri": "https://localhost:8080/"
        },
        "id": "Z1w7cb9r7QAl",
        "outputId": "d3efc0f4-8474-466e-c398-01c6d69473d4"
      },
      "outputs": [
        {
          "name": "stderr",
          "output_type": "stream",
          "text": [
            "Sampling: [5/5]: : 5it [00:02,  1.91it/s]"
          ]
        },
        {
          "name": "stdout",
          "output_type": "stream",
          "text": [
            "(5000, 50)\n"
          ]
        },
        {
          "name": "stderr",
          "output_type": "stream",
          "text": [
            "\n"
          ]
        }
      ],
      "source": [
        "doc_topic_centr = get_doc_topic_distribution(avitm_centr, train_data_centr, n_samples=5) # get all the topic predictions\n",
        "print(doc_topic_centr.shape)"
      ]
    },
    {
      "cell_type": "code",
      "execution_count": 26,
      "metadata": {
        "id": "YHry56Bz7sbV"
      },
      "outputs": [],
      "source": [
        "word_topic_centr = convert_topic_word_to_init_size(vocab_size, avitm_centr, n_topics, id2token_centr, all_words)\n",
        "word_topic_centr.shape"
      ]
    },
    {
      "cell_type": "markdown",
      "metadata": {
        "id": "usiERbR-8Roe"
      },
      "source": [
        "# 4. Evaluation"
      ]
    },
    {
      "cell_type": "code",
      "execution_count": 27,
      "metadata": {
        "id": "Ng1ykc1A9wkn"
      },
      "outputs": [],
      "source": [
        "doc_topic_centr_node_0 = doc_topic_centr[0:1000,:]"
      ]
    },
    {
      "cell_type": "markdown",
      "metadata": {
        "id": "2Lceg9pT2zeP"
      },
      "source": [
        "### Doc-topics"
      ]
    },
    {
      "cell_type": "code",
      "execution_count": 30,
      "metadata": {
        "colab": {
          "base_uri": "https://localhost:8080/"
        },
        "id": "VF0WXTEy2yu4",
        "outputId": "2ee8139f-7d4e-4e06-9f46-e37c2cf3e43e"
      },
      "outputs": [
        {
          "name": "stdout",
          "output_type": "stream",
          "text": [
            "Difference in evaluation of doc similarity (node 0): 694.4910918189195\n",
            "Difference in evaluation of doc similarity (centr): 630.8609969128047\n"
          ]
        }
      ],
      "source": [
        "sim_mat_theoretical = np.sqrt(doc_topics_all[0]).dot(np.sqrt(doc_topics_all[0].T))\n",
        "sim_mat_actual = np.sqrt(doc_topic).dot(np.sqrt(doc_topic.T))\n",
        "print('Difference in evaluation of doc similarity (node 0):', np.sum(np.abs(sim_mat_theoretical - sim_mat_actual))/n_docs)\n",
        "\n",
        "sim_mat_actual_centr = np.sqrt(doc_topic_centr_node_0).dot(np.sqrt(doc_topic_centr_node_0.T))\n",
        "print('Difference in evaluation of doc similarity (centr):', np.sum(np.abs(sim_mat_theoretical - sim_mat_actual_centr))/n_docs)"
      ]
    },
    {
      "cell_type": "markdown",
      "metadata": {
        "id": "w7WwmitW3VAz"
      },
      "source": [
        "### Topic-words"
      ]
    },
    {
      "cell_type": "code",
      "execution_count": 41,
      "metadata": {
        "colab": {
          "base_uri": "https://localhost:8080/"
        },
        "id": "Yr9sMP2X3b8B",
        "outputId": "a0648502-b39b-48b2-cbe4-db6148abdc07"
      },
      "outputs": [
        {
          "name": "stdout",
          "output_type": "stream",
          "text": [
            "Tópicos (equivalentes) evaluados correctamente (node 0): 5.022558925927156\n",
            "Tópicos (equivalentes) evaluados correctamente (centr): 6.526784932472249\n"
          ]
        }
      ],
      "source": [
        "print('Tópicos (equivalentes) evaluados correctamente (node 0):', np.sum(np.max(np.sqrt(word_topic).dot(np.sqrt(topic_vectors.T)), axis=0)))\n",
        "print('Tópicos (equivalentes) evaluados correctamente (centr):', np.sum(np.max(np.sqrt(word_topic_centr).dot(np.sqrt(topic_vectors.T)), axis=0)))"
      ]
    }
  ],
  "metadata": {
    "colab": {
      "collapsed_sections": [],
      "name": "Centralized-ProdLDA.ipynb",
      "provenance": []
    },
    "kernelspec": {
      "display_name": "Python 3",
      "name": "python3"
    },
    "language_info": {
      "name": "python"
    }
  },
  "nbformat": 4,
  "nbformat_minor": 0
}
